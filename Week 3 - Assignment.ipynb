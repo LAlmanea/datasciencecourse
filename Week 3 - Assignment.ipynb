{
  "nbformat": 4,
  "nbformat_minor": 0,
  "metadata": {
    "colab": {
      "name": "Untitled2.ipynb",
      "provenance": [],
      "collapsed_sections": []
    },
    "kernelspec": {
      "name": "python3",
      "display_name": "Python 3"
    }
  },
  "cells": [
    {
      "cell_type": "markdown",
      "metadata": {
        "id": "2Uf-lPbbM3zE",
        "colab_type": "text"
      },
      "source": [
        "![alt text](https://secure.meetupstatic.com/photos/event/c/9/7/a/600_487911578.jpeg)\n",
        "\n",
        "# Assignment 3\n",
        "\n",
        "You joined Daldi GmbH as a junior data scientist. Daldi GmbH is a supermarket chain in Austria. You need to prove that hiring a data scientist in their company was a good idea. Your manager has provided you with the following dataset (daldi_sales.csv).\n",
        "You will have to present your results to the CEO. You are free to explore the data, as you wish. If you need a starting point, your Manager recommends answering the following question:\n",
        "\n",
        "What is the most profitable Chain/City?\n",
        "\n",
        "How effective is our Membership Program?\n",
        "\n",
        "Which products are most succesful among women/men?\n",
        "\n",
        "\n",
        "**Description Data**\n",
        "\n",
        "\n",
        "invoice_id: Computer generated sales slip invoice identification number\n",
        "\n",
        "branch: Branch of supercenter (3 branches are available identified by A, B and C).\n",
        "\n",
        "city: Location of supercenters\n",
        "\n",
        "customer_type: Type of customers, recorded by Members for customers using member card and Normal for without member card.\n",
        "\n",
        "gender: Gender type of customer\n",
        "\n",
        "product_type: General item categorization groups - Electronic accessories, Fashion accessories, Food and beverages, Health and beauty, Home and lifestyle, Sports and travel\n",
        "\n",
        "unit_price: Price of each product in €\n",
        "\n",
        "quantity: Number of products purchased by customer\n",
        "\n",
        "\n",
        "total: Total price including tax\n",
        "\n",
        "Payment: Payment used by customer for purchase (3 methods are available – Cash, Credit card and Ewallet)\n",
        "\n",
        "Profit: profit in €\n",
        "\n",
        "customer_rating: Customer stratification rating on their overall shopping experience (On a scale of 1 to 10)\n",
        "\n",
        "**Submission**\n",
        "\n",
        "For submission, either prepare a 5 min Powerpoint or a .ipynb (Google Collab) file with a description of the things done.\n",
        "\n",
        "**To download the Google Collab, Press:**\n",
        "\n",
        "\n",
        "File > Download .ipynb\n",
        "\n",
        "**Upload Here your Solutions**\n",
        "[https://forms.gle/Ngf9W6ebcB2x2wNF8](https://forms.gle/Ngf9W6ebcB2x2wNF8)\n"
      ]
    },
    {
      "cell_type": "markdown",
      "metadata": {
        "id": "L-KvRj0Bjtfr",
        "colab_type": "text"
      },
      "source": [
        "# Download and Load Data"
      ]
    },
    {
      "cell_type": "code",
      "metadata": {
        "id": "bJlvwb_4MRmI",
        "colab_type": "code",
        "colab": {}
      },
      "source": [
        "import pandas as pd\n",
        "import numpy as np\n",
        "import plotly.express as px"
      ],
      "execution_count": 0,
      "outputs": []
    },
    {
      "cell_type": "code",
      "metadata": {
        "id": "4ho9AWhlMcnv",
        "colab_type": "code",
        "outputId": "3e2cb4c9-b6b1-4568-a6ed-2f03adff9d34",
        "colab": {
          "base_uri": "https://localhost:8080/",
          "height": 371
        }
      },
      "source": [
        "!wget http://mlgraz.at/course_files/week3/daldi_sales.csv"
      ],
      "execution_count": 0,
      "outputs": [
        {
          "output_type": "stream",
          "text": [
            "--2020-04-11 17:03:55--  http://mlgraz.at/course_files/week3/daldi_sales.csv\n",
            "Resolving mlgraz.at (mlgraz.at)... 81.19.159.92\n",
            "Connecting to mlgraz.at (mlgraz.at)|81.19.159.92|:80... connected.\n",
            "HTTP request sent, awaiting response... 302 Found\n",
            "Location: http://www.mlgraz.at/course_files/week3/daldi_sales.csv [following]\n",
            "--2020-04-11 17:03:56--  http://www.mlgraz.at/course_files/week3/daldi_sales.csv\n",
            "Resolving www.mlgraz.at (www.mlgraz.at)... 81.19.159.92\n",
            "Connecting to www.mlgraz.at (www.mlgraz.at)|81.19.159.92|:80... connected.\n",
            "HTTP request sent, awaiting response... 301 Moved Permanently\n",
            "Location: https://www.mlgraz.at/course_files/week3/daldi_sales.csv [following]\n",
            "--2020-04-11 17:03:57--  https://www.mlgraz.at/course_files/week3/daldi_sales.csv\n",
            "Connecting to www.mlgraz.at (www.mlgraz.at)|81.19.159.92|:443... connected.\n",
            "HTTP request sent, awaiting response... 200 OK\n",
            "Length: 86054 (84K) [text/csv]\n",
            "Saving to: ‘daldi_sales.csv’\n",
            "\n",
            "daldi_sales.csv     100%[===================>]  84.04K   153KB/s    in 0.5s    \n",
            "\n",
            "2020-04-11 17:03:59 (153 KB/s) - ‘daldi_sales.csv’ saved [86054/86054]\n",
            "\n"
          ],
          "name": "stdout"
        }
      ]
    },
    {
      "cell_type": "code",
      "metadata": {
        "id": "z1caOMMRMp4S",
        "colab_type": "code",
        "colab": {}
      },
      "source": [
        "df = pd.read_csv(\"daldi_sales.csv\")"
      ],
      "execution_count": 0,
      "outputs": []
    },
    {
      "cell_type": "code",
      "metadata": {
        "id": "X0rPA7o2M1J_",
        "colab_type": "code",
        "outputId": "33cfebd8-5326-4486-b123-e06dd80ef61f",
        "colab": {
          "base_uri": "https://localhost:8080/",
          "height": 206
        }
      },
      "source": [
        "df.head()"
      ],
      "execution_count": 0,
      "outputs": [
        {
          "output_type": "execute_result",
          "data": {
            "text/html": [
              "<div>\n",
              "<style scoped>\n",
              "    .dataframe tbody tr th:only-of-type {\n",
              "        vertical-align: middle;\n",
              "    }\n",
              "\n",
              "    .dataframe tbody tr th {\n",
              "        vertical-align: top;\n",
              "    }\n",
              "\n",
              "    .dataframe thead th {\n",
              "        text-align: right;\n",
              "    }\n",
              "</style>\n",
              "<table border=\"1\" class=\"dataframe\">\n",
              "  <thead>\n",
              "    <tr style=\"text-align: right;\">\n",
              "      <th></th>\n",
              "      <th>invoice_id</th>\n",
              "      <th>branch</th>\n",
              "      <th>city</th>\n",
              "      <th>customer_type</th>\n",
              "      <th>gender</th>\n",
              "      <th>product_type</th>\n",
              "      <th>unit_price</th>\n",
              "      <th>quantity</th>\n",
              "      <th>total</th>\n",
              "      <th>payment</th>\n",
              "      <th>profit</th>\n",
              "      <th>customer_rating</th>\n",
              "    </tr>\n",
              "  </thead>\n",
              "  <tbody>\n",
              "    <tr>\n",
              "      <th>0</th>\n",
              "      <td>750-67-8428</td>\n",
              "      <td>A</td>\n",
              "      <td>Vienna</td>\n",
              "      <td>Member</td>\n",
              "      <td>Female</td>\n",
              "      <td>Health and beauty</td>\n",
              "      <td>74.69</td>\n",
              "      <td>7</td>\n",
              "      <td>548.97</td>\n",
              "      <td>Ewallet</td>\n",
              "      <td>26.14</td>\n",
              "      <td>9.1</td>\n",
              "    </tr>\n",
              "    <tr>\n",
              "      <th>1</th>\n",
              "      <td>226-31-3081</td>\n",
              "      <td>C</td>\n",
              "      <td>Salzburg</td>\n",
              "      <td>Normal</td>\n",
              "      <td>Female</td>\n",
              "      <td>Electronic accessories</td>\n",
              "      <td>15.28</td>\n",
              "      <td>5</td>\n",
              "      <td>80.22</td>\n",
              "      <td>Cash</td>\n",
              "      <td>3.82</td>\n",
              "      <td>9.6</td>\n",
              "    </tr>\n",
              "    <tr>\n",
              "      <th>2</th>\n",
              "      <td>631-41-3108</td>\n",
              "      <td>A</td>\n",
              "      <td>Vienna</td>\n",
              "      <td>Normal</td>\n",
              "      <td>Male</td>\n",
              "      <td>Home and lifestyle</td>\n",
              "      <td>46.33</td>\n",
              "      <td>7</td>\n",
              "      <td>340.53</td>\n",
              "      <td>Credit card</td>\n",
              "      <td>16.22</td>\n",
              "      <td>7.4</td>\n",
              "    </tr>\n",
              "    <tr>\n",
              "      <th>3</th>\n",
              "      <td>123-19-1176</td>\n",
              "      <td>A</td>\n",
              "      <td>Vienna</td>\n",
              "      <td>Member</td>\n",
              "      <td>Male</td>\n",
              "      <td>Health and beauty</td>\n",
              "      <td>58.22</td>\n",
              "      <td>8</td>\n",
              "      <td>489.05</td>\n",
              "      <td>Ewallet</td>\n",
              "      <td>23.29</td>\n",
              "      <td>8.4</td>\n",
              "    </tr>\n",
              "    <tr>\n",
              "      <th>4</th>\n",
              "      <td>373-73-7910</td>\n",
              "      <td>A</td>\n",
              "      <td>Vienna</td>\n",
              "      <td>Normal</td>\n",
              "      <td>Male</td>\n",
              "      <td>Sports and travel</td>\n",
              "      <td>86.31</td>\n",
              "      <td>7</td>\n",
              "      <td>634.38</td>\n",
              "      <td>Ewallet</td>\n",
              "      <td>30.21</td>\n",
              "      <td>5.3</td>\n",
              "    </tr>\n",
              "  </tbody>\n",
              "</table>\n",
              "</div>"
            ],
            "text/plain": [
              "    invoice_id branch      city  ...      payment profit customer_rating\n",
              "0  750-67-8428      A    Vienna  ...      Ewallet  26.14             9.1\n",
              "1  226-31-3081      C  Salzburg  ...         Cash   3.82             9.6\n",
              "2  631-41-3108      A    Vienna  ...  Credit card  16.22             7.4\n",
              "3  123-19-1176      A    Vienna  ...      Ewallet  23.29             8.4\n",
              "4  373-73-7910      A    Vienna  ...      Ewallet  30.21             5.3\n",
              "\n",
              "[5 rows x 12 columns]"
            ]
          },
          "metadata": {
            "tags": []
          },
          "execution_count": 5
        }
      ]
    },
    {
      "cell_type": "code",
      "metadata": {
        "id": "3PFGvr3bM2H5",
        "colab_type": "code",
        "colab": {}
      },
      "source": [
        ""
      ],
      "execution_count": 0,
      "outputs": []
    },
    {
      "cell_type": "markdown",
      "metadata": {
        "id": "Epqvexo4jzLh",
        "colab_type": "text"
      },
      "source": [
        "# Good Luck!"
      ]
    },
    {
      "cell_type": "code",
      "metadata": {
        "id": "Uz7SW-IFj03i",
        "colab_type": "code",
        "colab": {}
      },
      "source": [
        ""
      ],
      "execution_count": 0,
      "outputs": []
    },
    {
      "cell_type": "code",
      "metadata": {
        "id": "C9vxtbskj1oz",
        "colab_type": "code",
        "colab": {}
      },
      "source": [
        ""
      ],
      "execution_count": 0,
      "outputs": []
    },
    {
      "cell_type": "code",
      "metadata": {
        "id": "g4a8ckOYj10f",
        "colab_type": "code",
        "colab": {}
      },
      "source": [
        ""
      ],
      "execution_count": 0,
      "outputs": []
    },
    {
      "cell_type": "code",
      "metadata": {
        "id": "tRvrUc3gj14w",
        "colab_type": "code",
        "colab": {}
      },
      "source": [
        ""
      ],
      "execution_count": 0,
      "outputs": []
    }
  ]
}