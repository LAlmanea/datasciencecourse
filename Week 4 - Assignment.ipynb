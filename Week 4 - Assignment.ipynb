{
  "nbformat": 4,
  "nbformat_minor": 0,
  "metadata": {
    "colab": {
      "name": "Untitled3.ipynb",
      "provenance": []
    },
    "kernelspec": {
      "name": "python3",
      "display_name": "Python 3"
    }
  },
  "cells": [
    {
      "cell_type": "markdown",
      "metadata": {
        "id": "_PYXvb4jZlBM",
        "colab_type": "text"
      },
      "source": [
        "![alt text](https://secure.meetupstatic.com/photos/event/c/9/7/a/600_487911578.jpeg)\n",
        "\n",
        "Week 4 Assignment\n",
        "\n",
        "Data Scientist are Sexy. But to maintain it, we need skincare products!\n",
        "This week we will explore a dataset from Sephora with skincare products.\n",
        "Your tasks is to predict if a product is HOT or NOT.\n",
        "We will determine this by the rating column.\n",
        "\n",
        "We provided 2 dataframe: Train and Test. Notice that the test doesn't have the column \"rating\". \n",
        "\n",
        "You tasks is to build a model which predicts the rating of the test data (binary classification). Use the train dataset for training the model.\n",
        "You are free to use any model.\n",
        "\n",
        "\n",
        "Submit your ipynb on Google Forms.\n",
        "[https://forms.gle/qJzy4S1RadiFtdu3A](https://forms.gle/qJzy4S1RadiFtdu3A)"
      ]
    },
    {
      "cell_type": "code",
      "metadata": {
        "id": "lKuiKcEWZB5u",
        "colab_type": "code",
        "colab": {
          "base_uri": "https://localhost:8080/",
          "height": 265
        },
        "outputId": "a52707bf-15cc-467c-a613-5e8f1faa5f8a"
      },
      "source": [
        "!pip install rfpimp"
      ],
      "execution_count": 9,
      "outputs": [
        {
          "output_type": "stream",
          "text": [
            "Requirement already satisfied: rfpimp in /usr/local/lib/python3.6/dist-packages (1.3.4)\n",
            "Requirement already satisfied: numpy in /usr/local/lib/python3.6/dist-packages (from rfpimp) (1.18.2)\n",
            "Requirement already satisfied: pandas in /usr/local/lib/python3.6/dist-packages (from rfpimp) (1.0.3)\n",
            "Requirement already satisfied: matplotlib in /usr/local/lib/python3.6/dist-packages (from rfpimp) (3.2.1)\n",
            "Requirement already satisfied: sklearn in /usr/local/lib/python3.6/dist-packages (from rfpimp) (0.0)\n",
            "Requirement already satisfied: pytz>=2017.2 in /usr/local/lib/python3.6/dist-packages (from pandas->rfpimp) (2018.9)\n",
            "Requirement already satisfied: python-dateutil>=2.6.1 in /usr/local/lib/python3.6/dist-packages (from pandas->rfpimp) (2.8.1)\n",
            "Requirement already satisfied: pyparsing!=2.0.4,!=2.1.2,!=2.1.6,>=2.0.1 in /usr/local/lib/python3.6/dist-packages (from matplotlib->rfpimp) (2.4.7)\n",
            "Requirement already satisfied: kiwisolver>=1.0.1 in /usr/local/lib/python3.6/dist-packages (from matplotlib->rfpimp) (1.2.0)\n",
            "Requirement already satisfied: cycler>=0.10 in /usr/local/lib/python3.6/dist-packages (from matplotlib->rfpimp) (0.10.0)\n",
            "Requirement already satisfied: scikit-learn in /usr/local/lib/python3.6/dist-packages (from sklearn->rfpimp) (0.22.2.post1)\n",
            "Requirement already satisfied: six>=1.5 in /usr/local/lib/python3.6/dist-packages (from python-dateutil>=2.6.1->pandas->rfpimp) (1.12.0)\n",
            "Requirement already satisfied: scipy>=0.17.0 in /usr/local/lib/python3.6/dist-packages (from scikit-learn->sklearn->rfpimp) (1.4.1)\n",
            "Requirement already satisfied: joblib>=0.11 in /usr/local/lib/python3.6/dist-packages (from scikit-learn->sklearn->rfpimp) (0.14.1)\n"
          ],
          "name": "stdout"
        }
      ]
    },
    {
      "cell_type": "code",
      "metadata": {
        "id": "GWb8hnzsZOQr",
        "colab_type": "code",
        "colab": {
          "base_uri": "https://localhost:8080/",
          "height": 212
        },
        "outputId": "a3853a23-48f3-44da-e23d-e7e2aa860733"
      },
      "source": [
        "!wget https://www.mlgraz.at/course_files/week4/train.csv"
      ],
      "execution_count": 2,
      "outputs": [
        {
          "output_type": "stream",
          "text": [
            "--2020-04-19 17:03:30--  https://www.mlgraz.at/course_files/week4/train.csv\n",
            "Resolving www.mlgraz.at (www.mlgraz.at)... 81.19.159.92\n",
            "Connecting to www.mlgraz.at (www.mlgraz.at)|81.19.159.92|:443... connected.\n",
            "HTTP request sent, awaiting response... 200 OK\n",
            "Length: 867803 (847K) [text/csv]\n",
            "Saving to: ‘train.csv’\n",
            "\n",
            "train.csv           100%[===================>] 847.46K  1.43MB/s    in 0.6s    \n",
            "\n",
            "2020-04-19 17:03:31 (1.43 MB/s) - ‘train.csv’ saved [867803/867803]\n",
            "\n"
          ],
          "name": "stdout"
        }
      ]
    },
    {
      "cell_type": "code",
      "metadata": {
        "id": "SzS-dFUuZQ0I",
        "colab_type": "code",
        "colab": {
          "base_uri": "https://localhost:8080/",
          "height": 212
        },
        "outputId": "08562994-1f6c-4625-a883-2e8751e52d67"
      },
      "source": [
        "!wget https://www.mlgraz.at/course_files/week4/test.csv"
      ],
      "execution_count": 3,
      "outputs": [
        {
          "output_type": "stream",
          "text": [
            "--2020-04-19 17:03:37--  https://www.mlgraz.at/course_files/week4/test.csv\n",
            "Resolving www.mlgraz.at (www.mlgraz.at)... 81.19.159.92\n",
            "Connecting to www.mlgraz.at (www.mlgraz.at)|81.19.159.92|:443... connected.\n",
            "HTTP request sent, awaiting response... 200 OK\n",
            "Length: 104445 (102K) [text/csv]\n",
            "Saving to: ‘test.csv’\n",
            "\n",
            "test.csv            100%[===================>] 102.00K   298KB/s    in 0.3s    \n",
            "\n",
            "2020-04-19 17:03:37 (298 KB/s) - ‘test.csv’ saved [104445/104445]\n",
            "\n"
          ],
          "name": "stdout"
        }
      ]
    },
    {
      "cell_type": "code",
      "metadata": {
        "id": "P0Xawxd3ZTSC",
        "colab_type": "code",
        "colab": {}
      },
      "source": [
        "import pandas as pd\n",
        "from sklearn.impute import SimpleImputer\n",
        "import numpy as np\n",
        "from sklearn.ensemble import RandomForestClassifier\n",
        "from  sklearn.preprocessing import OrdinalEncoder\n",
        "from sklearn.tree import DecisionTreeClassifier\n",
        "from sklearn.model_selection import train_test_split\n",
        "from sklearn.model_selection import cross_validate\n",
        "from  sklearn.metrics import *\n",
        "import matplotlib.pyplot as plt\n",
        "from sklearn.preprocessing import StandardScaler\n",
        "from sklearn import tree\n",
        "from sklearn import model_selection\n",
        "import plotly.express as px"
      ],
      "execution_count": 0,
      "outputs": []
    },
    {
      "cell_type": "code",
      "metadata": {
        "id": "q1V902XYZWrq",
        "colab_type": "code",
        "colab": {
          "base_uri": "https://localhost:8080/",
          "height": 108
        },
        "outputId": "beb393d1-70a3-470d-8ba6-5d31844968e5"
      },
      "source": [
        "import rfpimp"
      ],
      "execution_count": 5,
      "outputs": [
        {
          "output_type": "stream",
          "text": [
            "/usr/local/lib/python3.6/dist-packages/sklearn/utils/deprecation.py:144: FutureWarning:\n",
            "\n",
            "The sklearn.ensemble.forest module is  deprecated in version 0.22 and will be removed in version 0.24. The corresponding classes / functions should instead be imported from sklearn.ensemble. Anything that cannot be imported from sklearn.ensemble is now part of the private API.\n",
            "\n"
          ],
          "name": "stderr"
        }
      ]
    },
    {
      "cell_type": "code",
      "metadata": {
        "id": "MN7q3ir0ZYqD",
        "colab_type": "code",
        "colab": {}
      },
      "source": [
        "df_train = pd.read_csv(\"train.csv\")\n",
        "df_test = pd.read_csv(\"test.csv\")"
      ],
      "execution_count": 0,
      "outputs": []
    },
    {
      "cell_type": "code",
      "metadata": {
        "id": "_8_pnUGHZctI",
        "colab_type": "code",
        "colab": {
          "base_uri": "https://localhost:8080/",
          "height": 434
        },
        "outputId": "ac550a86-84e6-46c7-9308-786255bc30cd"
      },
      "source": [
        "df_train.head()"
      ],
      "execution_count": 7,
      "outputs": [
        {
          "output_type": "execute_result",
          "data": {
            "text/html": [
              "<div>\n",
              "<style scoped>\n",
              "    .dataframe tbody tr th:only-of-type {\n",
              "        vertical-align: middle;\n",
              "    }\n",
              "\n",
              "    .dataframe tbody tr th {\n",
              "        vertical-align: top;\n",
              "    }\n",
              "\n",
              "    .dataframe thead th {\n",
              "        text-align: right;\n",
              "    }\n",
              "</style>\n",
              "<table border=\"1\" class=\"dataframe\">\n",
              "  <thead>\n",
              "    <tr style=\"text-align: right;\">\n",
              "      <th></th>\n",
              "      <th>Unnamed: 0</th>\n",
              "      <th>brand</th>\n",
              "      <th>category</th>\n",
              "      <th>name</th>\n",
              "      <th>rating</th>\n",
              "      <th>number_of_reviews</th>\n",
              "      <th>price</th>\n",
              "      <th>value_price</th>\n",
              "      <th>MarketingFlags</th>\n",
              "      <th>MarketingFlags_content</th>\n",
              "      <th>online_only</th>\n",
              "      <th>exclusive</th>\n",
              "      <th>limited_edition</th>\n",
              "      <th>limited_time_offer</th>\n",
              "      <th>likes</th>\n",
              "    </tr>\n",
              "  </thead>\n",
              "  <tbody>\n",
              "    <tr>\n",
              "      <th>0</th>\n",
              "      <td>0</td>\n",
              "      <td>Acqua Di Parma</td>\n",
              "      <td>Fragrance</td>\n",
              "      <td>Blu Mediterraneo MINIATURE Set</td>\n",
              "      <td>1</td>\n",
              "      <td>4</td>\n",
              "      <td>66.0</td>\n",
              "      <td>75.0</td>\n",
              "      <td>True</td>\n",
              "      <td>online only</td>\n",
              "      <td>1</td>\n",
              "      <td>0</td>\n",
              "      <td>0</td>\n",
              "      <td>0</td>\n",
              "      <td>3002</td>\n",
              "    </tr>\n",
              "    <tr>\n",
              "      <th>1</th>\n",
              "      <td>1</td>\n",
              "      <td>Acqua Di Parma</td>\n",
              "      <td>Cologne</td>\n",
              "      <td>Colonia</td>\n",
              "      <td>1</td>\n",
              "      <td>76</td>\n",
              "      <td>66.0</td>\n",
              "      <td>66.0</td>\n",
              "      <td>True</td>\n",
              "      <td>online only</td>\n",
              "      <td>1</td>\n",
              "      <td>0</td>\n",
              "      <td>0</td>\n",
              "      <td>0</td>\n",
              "      <td>2700</td>\n",
              "    </tr>\n",
              "    <tr>\n",
              "      <th>2</th>\n",
              "      <td>2</td>\n",
              "      <td>Acqua Di Parma</td>\n",
              "      <td>Perfume</td>\n",
              "      <td>Arancia di Capri</td>\n",
              "      <td>1</td>\n",
              "      <td>26</td>\n",
              "      <td>180.0</td>\n",
              "      <td>180.0</td>\n",
              "      <td>True</td>\n",
              "      <td>online only</td>\n",
              "      <td>1</td>\n",
              "      <td>0</td>\n",
              "      <td>0</td>\n",
              "      <td>0</td>\n",
              "      <td>2600</td>\n",
              "    </tr>\n",
              "    <tr>\n",
              "      <th>3</th>\n",
              "      <td>4</td>\n",
              "      <td>Acqua Di Parma</td>\n",
              "      <td>Fragrance</td>\n",
              "      <td>Colonia Miniature Set</td>\n",
              "      <td>0</td>\n",
              "      <td>2</td>\n",
              "      <td>72.0</td>\n",
              "      <td>80.0</td>\n",
              "      <td>True</td>\n",
              "      <td>online only</td>\n",
              "      <td>1</td>\n",
              "      <td>0</td>\n",
              "      <td>0</td>\n",
              "      <td>0</td>\n",
              "      <td>943</td>\n",
              "    </tr>\n",
              "    <tr>\n",
              "      <th>4</th>\n",
              "      <td>5</td>\n",
              "      <td>Acqua Di Parma</td>\n",
              "      <td>Perfume</td>\n",
              "      <td>Fico di Amalfi</td>\n",
              "      <td>1</td>\n",
              "      <td>79</td>\n",
              "      <td>180.0</td>\n",
              "      <td>180.0</td>\n",
              "      <td>True</td>\n",
              "      <td>online only</td>\n",
              "      <td>1</td>\n",
              "      <td>0</td>\n",
              "      <td>0</td>\n",
              "      <td>0</td>\n",
              "      <td>2600</td>\n",
              "    </tr>\n",
              "  </tbody>\n",
              "</table>\n",
              "</div>"
            ],
            "text/plain": [
              "   Unnamed: 0           brand  ... limited_time_offer likes\n",
              "0           0  Acqua Di Parma  ...                  0  3002\n",
              "1           1  Acqua Di Parma  ...                  0  2700\n",
              "2           2  Acqua Di Parma  ...                  0  2600\n",
              "3           4  Acqua Di Parma  ...                  0   943\n",
              "4           5  Acqua Di Parma  ...                  0  2600\n",
              "\n",
              "[5 rows x 15 columns]"
            ]
          },
          "metadata": {
            "tags": []
          },
          "execution_count": 7
        }
      ]
    },
    {
      "cell_type": "code",
      "metadata": {
        "id": "uWZeACEKZd1J",
        "colab_type": "code",
        "colab": {
          "base_uri": "https://localhost:8080/",
          "height": 449
        },
        "outputId": "f8157b56-3068-4bb3-98af-fb36b88fd04a"
      },
      "source": [
        "df_test.head()"
      ],
      "execution_count": 8,
      "outputs": [
        {
          "output_type": "execute_result",
          "data": {
            "text/html": [
              "<div>\n",
              "<style scoped>\n",
              "    .dataframe tbody tr th:only-of-type {\n",
              "        vertical-align: middle;\n",
              "    }\n",
              "\n",
              "    .dataframe tbody tr th {\n",
              "        vertical-align: top;\n",
              "    }\n",
              "\n",
              "    .dataframe thead th {\n",
              "        text-align: right;\n",
              "    }\n",
              "</style>\n",
              "<table border=\"1\" class=\"dataframe\">\n",
              "  <thead>\n",
              "    <tr style=\"text-align: right;\">\n",
              "      <th></th>\n",
              "      <th>Unnamed: 0</th>\n",
              "      <th>brand</th>\n",
              "      <th>category</th>\n",
              "      <th>name</th>\n",
              "      <th>number_of_reviews</th>\n",
              "      <th>price</th>\n",
              "      <th>value_price</th>\n",
              "      <th>MarketingFlags</th>\n",
              "      <th>MarketingFlags_content</th>\n",
              "      <th>online_only</th>\n",
              "      <th>exclusive</th>\n",
              "      <th>limited_edition</th>\n",
              "      <th>limited_time_offer</th>\n",
              "      <th>likes</th>\n",
              "    </tr>\n",
              "  </thead>\n",
              "  <tbody>\n",
              "    <tr>\n",
              "      <th>0</th>\n",
              "      <td>3941</td>\n",
              "      <td>Jack Black</td>\n",
              "      <td>Toners</td>\n",
              "      <td>Oil-Control Toner</td>\n",
              "      <td>3</td>\n",
              "      <td>25.0</td>\n",
              "      <td>25.0</td>\n",
              "      <td>True</td>\n",
              "      <td>online only</td>\n",
              "      <td>1</td>\n",
              "      <td>0</td>\n",
              "      <td>0</td>\n",
              "      <td>0</td>\n",
              "      <td>311</td>\n",
              "    </tr>\n",
              "    <tr>\n",
              "      <th>1</th>\n",
              "      <td>3064</td>\n",
              "      <td>Fresh</td>\n",
              "      <td>Moisturizers</td>\n",
              "      <td>Crème Ancienne® Soft Cream</td>\n",
              "      <td>39</td>\n",
              "      <td>148.0</td>\n",
              "      <td>148.0</td>\n",
              "      <td>False</td>\n",
              "      <td>0</td>\n",
              "      <td>0</td>\n",
              "      <td>0</td>\n",
              "      <td>0</td>\n",
              "      <td>0</td>\n",
              "      <td>5100</td>\n",
              "    </tr>\n",
              "    <tr>\n",
              "      <th>2</th>\n",
              "      <td>8281</td>\n",
              "      <td>TOM FORD</td>\n",
              "      <td>Deodorant for Men</td>\n",
              "      <td>Oud Wood Deodorant Stick</td>\n",
              "      <td>9</td>\n",
              "      <td>53.0</td>\n",
              "      <td>53.0</td>\n",
              "      <td>False</td>\n",
              "      <td>0</td>\n",
              "      <td>0</td>\n",
              "      <td>0</td>\n",
              "      <td>0</td>\n",
              "      <td>0</td>\n",
              "      <td>897</td>\n",
              "    </tr>\n",
              "    <tr>\n",
              "      <th>3</th>\n",
              "      <td>6413</td>\n",
              "      <td>Perricone MD</td>\n",
              "      <td>Bronzer</td>\n",
              "      <td>No Makeup Bronzer Broad Spectrum SPF 20</td>\n",
              "      <td>196</td>\n",
              "      <td>35.0</td>\n",
              "      <td>35.0</td>\n",
              "      <td>False</td>\n",
              "      <td>0</td>\n",
              "      <td>0</td>\n",
              "      <td>0</td>\n",
              "      <td>0</td>\n",
              "      <td>0</td>\n",
              "      <td>11600</td>\n",
              "    </tr>\n",
              "    <tr>\n",
              "      <th>4</th>\n",
              "      <td>1302</td>\n",
              "      <td>Caudalie</td>\n",
              "      <td>Mini Size</td>\n",
              "      <td>Vinosource SOS Deep Hydration Moisturizer Mini</td>\n",
              "      <td>3</td>\n",
              "      <td>24.0</td>\n",
              "      <td>24.0</td>\n",
              "      <td>False</td>\n",
              "      <td>0</td>\n",
              "      <td>0</td>\n",
              "      <td>0</td>\n",
              "      <td>0</td>\n",
              "      <td>0</td>\n",
              "      <td>0</td>\n",
              "    </tr>\n",
              "  </tbody>\n",
              "</table>\n",
              "</div>"
            ],
            "text/plain": [
              "   Unnamed: 0         brand  ... limited_time_offer  likes\n",
              "0        3941    Jack Black  ...                  0    311\n",
              "1        3064         Fresh  ...                  0   5100\n",
              "2        8281      TOM FORD  ...                  0    897\n",
              "3        6413  Perricone MD  ...                  0  11600\n",
              "4        1302      Caudalie  ...                  0      0\n",
              "\n",
              "[5 rows x 14 columns]"
            ]
          },
          "metadata": {
            "tags": []
          },
          "execution_count": 8
        }
      ]
    },
    {
      "cell_type": "code",
      "metadata": {
        "id": "-yAsi2OiZe4X",
        "colab_type": "code",
        "colab": {}
      },
      "source": [
        ""
      ],
      "execution_count": 0,
      "outputs": []
    }
  ]
}