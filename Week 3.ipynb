{
  "nbformat": 4,
  "nbformat_minor": 0,
  "metadata": {
    "kernelspec": {
      "display_name": "Python 3",
      "language": "python",
      "name": "python3"
    },
    "language_info": {
      "codemirror_mode": {
        "name": "ipython",
        "version": 3
      },
      "file_extension": ".py",
      "mimetype": "text/x-python",
      "name": "python",
      "nbconvert_exporter": "python",
      "pygments_lexer": "ipython3",
      "version": "3.6.8"
    },
    "colab": {
      "name": "avocado_plots.ipynb",
      "provenance": [],
      "collapsed_sections": []
    }
  },
  "cells": [
    {
      "cell_type": "markdown",
      "metadata": {
        "id": "mbP7NjF10naq",
        "colab_type": "text"
      },
      "source": [
        "# Load Data"
      ]
    },
    {
      "cell_type": "code",
      "metadata": {
        "id": "hpNVK0kMzCOL",
        "colab_type": "code",
        "colab": {}
      },
      "source": [
        "import pandas as pd\n",
        "import numpy as np\n",
        "import plotly.express as px"
      ],
      "execution_count": 0,
      "outputs": []
    },
    {
      "cell_type": "code",
      "metadata": {
        "id": "dS6s09VG05Cl",
        "colab_type": "code",
        "outputId": "a310f47c-ea28-4e72-d0a1-72a43df70d49",
        "colab": {
          "base_uri": "https://localhost:8080/",
          "height": 236
        }
      },
      "source": [
        "!wget https://www.mlgraz.at/course_files/week3/avocado.csv"
      ],
      "execution_count": 0,
      "outputs": [
        {
          "output_type": "stream",
          "text": [
            "--2020-04-07 18:08:13--  https://www.mlgraz.at/course_files/week3/avocado.csv\n",
            "Resolving www.mlgraz.at (www.mlgraz.at)... 81.19.159.92\n",
            "Connecting to www.mlgraz.at (www.mlgraz.at)|81.19.159.92|:443... connected.\n",
            "HTTP request sent, awaiting response... 200 OK\n",
            "Length: 1989197 (1.9M) [text/csv]\n",
            "Saving to: ‘avocado.csv.1’\n",
            "\n",
            "avocado.csv.1       100%[===================>]   1.90M  1.73MB/s    in 1.1s    \n",
            "\n",
            "2020-04-07 18:08:15 (1.73 MB/s) - ‘avocado.csv.1’ saved [1989197/1989197]\n",
            "\n"
          ],
          "name": "stdout"
        }
      ]
    },
    {
      "cell_type": "code",
      "metadata": {
        "id": "cSuqkL92zCOY",
        "colab_type": "code",
        "colab": {}
      },
      "source": [
        "df = pd.read_csv('avocado.csv')"
      ],
      "execution_count": 0,
      "outputs": []
    },
    {
      "cell_type": "code",
      "metadata": {
        "id": "XTLNwj0tzCOh",
        "colab_type": "code",
        "colab": {}
      },
      "source": [
        "df.Date = pd.to_datetime(df.Date)"
      ],
      "execution_count": 0,
      "outputs": []
    },
    {
      "cell_type": "code",
      "metadata": {
        "id": "pijEfwAbzCOo",
        "colab_type": "code",
        "outputId": "e31f782f-10c5-498c-8729-d85f7226857c",
        "colab": {
          "base_uri": "https://localhost:8080/",
          "height": 107
        }
      },
      "source": [
        "print('Mean: ',df['4770'].mean())\n",
        "print('Median: ',df['4770'].median())\n",
        "print('std: ',df['4770'].std())\n",
        "print('min: ',df['4770'].min())\n",
        "print('max: ',df['4770'].max())"
      ],
      "execution_count": 0,
      "outputs": [
        {
          "output_type": "stream",
          "text": [
            "Mean:  22839.735992657315\n",
            "Median:  184.99\n",
            "std:  107464.06843537689\n",
            "min:  0.0\n",
            "max:  2546439.11\n"
          ],
          "name": "stdout"
        }
      ]
    },
    {
      "cell_type": "markdown",
      "metadata": {
        "id": "MPHpXLBy6zbD",
        "colab_type": "text"
      },
      "source": [
        "# Histogram"
      ]
    },
    {
      "cell_type": "markdown",
      "metadata": {
        "id": "MjaS1Hff7FpS",
        "colab_type": "text"
      },
      "source": [
        "**make a Histogram of prices for conventional avocados**"
      ]
    },
    {
      "cell_type": "code",
      "metadata": {
        "id": "QBVDj2fWIa40",
        "colab_type": "code",
        "colab": {}
      },
      "source": [
        ""
      ],
      "execution_count": 0,
      "outputs": []
    },
    {
      "cell_type": "code",
      "metadata": {
        "id": "sQjxZBNkIbCl",
        "colab_type": "code",
        "colab": {}
      },
      "source": [
        ""
      ],
      "execution_count": 0,
      "outputs": []
    },
    {
      "cell_type": "markdown",
      "metadata": {
        "colab_type": "text",
        "id": "C5eqDQR37TFp"
      },
      "source": [
        "**make a Histogram of prices for organic avocados**\n",
        "Q\n",
        "\n"
      ]
    },
    {
      "cell_type": "code",
      "metadata": {
        "id": "UIvGDO-uIepD",
        "colab_type": "code",
        "colab": {}
      },
      "source": [
        ""
      ],
      "execution_count": 0,
      "outputs": []
    },
    {
      "cell_type": "code",
      "metadata": {
        "id": "FYEr7PESIeWG",
        "colab_type": "code",
        "colab": {}
      },
      "source": [
        ""
      ],
      "execution_count": 0,
      "outputs": []
    },
    {
      "cell_type": "markdown",
      "metadata": {
        "id": "CxsNrrur8Ddn",
        "colab_type": "text"
      },
      "source": [
        "**Stack Conventional and Organic Histogram Plots**"
      ]
    },
    {
      "cell_type": "code",
      "metadata": {
        "id": "JVn1iWRUIiAm",
        "colab_type": "code",
        "colab": {}
      },
      "source": [
        ""
      ],
      "execution_count": 0,
      "outputs": []
    },
    {
      "cell_type": "markdown",
      "metadata": {
        "id": "UIaqdruE8OS1",
        "colab_type": "text"
      },
      "source": [
        "## Boxplot"
      ]
    },
    {
      "cell_type": "markdown",
      "metadata": {
        "id": "JO6iW2zj8mIw",
        "colab_type": "text"
      },
      "source": [
        "**Make a boxplot for conventional Avocados(AveragePrice)**\n",
        "\n",
        "\n"
      ]
    },
    {
      "cell_type": "code",
      "metadata": {
        "id": "8hYQQXKPInle",
        "colab_type": "code",
        "colab": {}
      },
      "source": [
        ""
      ],
      "execution_count": 0,
      "outputs": []
    },
    {
      "cell_type": "markdown",
      "metadata": {
        "id": "k3t_gsfk8ord",
        "colab_type": "text"
      },
      "source": [
        "**Create a boxplot for the prices of the organic avocados** Q"
      ]
    },
    {
      "cell_type": "code",
      "metadata": {
        "id": "8s2yxmCjIv13",
        "colab_type": "code",
        "colab": {}
      },
      "source": [
        ""
      ],
      "execution_count": 0,
      "outputs": []
    },
    {
      "cell_type": "markdown",
      "metadata": {
        "id": "wOPM_78C9D9i",
        "colab_type": "text"
      },
      "source": [
        "**Create a stacked boxplot for all the types of avocados**"
      ]
    },
    {
      "cell_type": "code",
      "metadata": {
        "id": "SYwRjbBLI2g6",
        "colab_type": "code",
        "colab": {}
      },
      "source": [
        ""
      ],
      "execution_count": 0,
      "outputs": []
    },
    {
      "cell_type": "markdown",
      "metadata": {
        "id": "-hMIRdYoGbNh",
        "colab_type": "text"
      },
      "source": [
        "# Lineplot"
      ]
    },
    {
      "cell_type": "markdown",
      "metadata": {
        "id": "q3hoHWl39rFL",
        "colab_type": "text"
      },
      "source": [
        "**Plot line plot (Date and Price) for conventional avocados**"
      ]
    },
    {
      "cell_type": "code",
      "metadata": {
        "id": "8eBJWuLJJB-I",
        "colab_type": "code",
        "colab": {}
      },
      "source": [
        ""
      ],
      "execution_count": 0,
      "outputs": []
    },
    {
      "cell_type": "markdown",
      "metadata": {
        "id": "Eeo25SrC98eF",
        "colab_type": "text"
      },
      "source": [
        "**What is Groupby?**\n"
      ]
    },
    {
      "cell_type": "code",
      "metadata": {
        "id": "EDbBFV87JI09",
        "colab_type": "code",
        "colab": {}
      },
      "source": [
        ""
      ],
      "execution_count": 0,
      "outputs": []
    },
    {
      "cell_type": "code",
      "metadata": {
        "id": "LcfMO8nrJIjM",
        "colab_type": "code",
        "colab": {}
      },
      "source": [
        ""
      ],
      "execution_count": 0,
      "outputs": []
    },
    {
      "cell_type": "code",
      "metadata": {
        "id": "7ZHjdAeWJIfZ",
        "colab_type": "code",
        "colab": {}
      },
      "source": [
        ""
      ],
      "execution_count": 0,
      "outputs": []
    },
    {
      "cell_type": "code",
      "metadata": {
        "id": "xsMJFEUGJIb-",
        "colab_type": "code",
        "colab": {}
      },
      "source": [
        ""
      ],
      "execution_count": 0,
      "outputs": []
    },
    {
      "cell_type": "code",
      "metadata": {
        "id": "pvBByd8FJIWv",
        "colab_type": "code",
        "colab": {}
      },
      "source": [
        ""
      ],
      "execution_count": 0,
      "outputs": []
    },
    {
      "cell_type": "code",
      "metadata": {
        "id": "PKcqT8ymJIMU",
        "colab_type": "code",
        "colab": {}
      },
      "source": [
        ""
      ],
      "execution_count": 0,
      "outputs": []
    },
    {
      "cell_type": "markdown",
      "metadata": {
        "id": "qGMIq3is-g1Z",
        "colab_type": "text"
      },
      "source": [
        "**Create a Line plot (Date, AveragePrice). Take the mean of entry, grouped by date and type. Plot only for conventional avocados**"
      ]
    },
    {
      "cell_type": "code",
      "metadata": {
        "id": "4JT-Ttn4zCQS",
        "colab_type": "code",
        "colab": {}
      },
      "source": [
        ""
      ],
      "execution_count": 0,
      "outputs": []
    },
    {
      "cell_type": "code",
      "metadata": {
        "id": "wLjI7Q4xJQUV",
        "colab_type": "code",
        "colab": {}
      },
      "source": [
        ""
      ],
      "execution_count": 0,
      "outputs": []
    },
    {
      "cell_type": "markdown",
      "metadata": {
        "id": "iVk3z-4M0mcd",
        "colab_type": "text"
      },
      "source": [
        "**Ok, now do the same for organic.** q"
      ]
    },
    {
      "cell_type": "code",
      "metadata": {
        "id": "i_JSBXJYJTn6",
        "colab_type": "code",
        "colab": {}
      },
      "source": [
        ""
      ],
      "execution_count": 0,
      "outputs": []
    },
    {
      "cell_type": "markdown",
      "metadata": {
        "id": "UQ0ei7SG_cEM",
        "colab_type": "text"
      },
      "source": [
        "**Finally, create a stacked line plot for both types**"
      ]
    },
    {
      "cell_type": "code",
      "metadata": {
        "id": "bUAZ2ldyJVgB",
        "colab_type": "code",
        "colab": {}
      },
      "source": [
        ""
      ],
      "execution_count": 0,
      "outputs": []
    },
    {
      "cell_type": "markdown",
      "metadata": {
        "id": "Lay8JlJ5_h_k",
        "colab_type": "text"
      },
      "source": [
        "# Barplot"
      ]
    },
    {
      "cell_type": "markdown",
      "metadata": {
        "id": "pEMkqsL8ARSj",
        "colab_type": "text"
      },
      "source": [
        "**Create a df \"df_2017\" where you take all value in the year 2017** Q\n",
        "\n",
        "Tip: Use column name \"year\""
      ]
    },
    {
      "cell_type": "code",
      "metadata": {
        "id": "9pXfbKrIJbU2",
        "colab_type": "code",
        "colab": {}
      },
      "source": [
        ""
      ],
      "execution_count": 0,
      "outputs": []
    },
    {
      "cell_type": "code",
      "metadata": {
        "id": "u_DC7PRqJbed",
        "colab_type": "code",
        "colab": {}
      },
      "source": [
        ""
      ],
      "execution_count": 0,
      "outputs": []
    },
    {
      "cell_type": "markdown",
      "metadata": {
        "id": "KYkTR0paAU2T",
        "colab_type": "text"
      },
      "source": [
        "How many rows are there in df_2017?"
      ]
    },
    {
      "cell_type": "code",
      "metadata": {
        "id": "krUUwuP7AnGe",
        "colab_type": "code",
        "colab": {}
      },
      "source": [
        ""
      ],
      "execution_count": 0,
      "outputs": []
    },
    {
      "cell_type": "markdown",
      "metadata": {
        "id": "2IjY2JRYAkLs",
        "colab_type": "text"
      },
      "source": [
        "**Now Groupby \"region\" and \"type\" on df_2017. Calculate the mean of the \"AveragePrice\" column. Reset the index and save it in a variable called \"df_2017_region_price\".**"
      ]
    },
    {
      "cell_type": "code",
      "metadata": {
        "id": "tdGNoJiHJwT7",
        "colab_type": "code",
        "colab": {}
      },
      "source": [
        ""
      ],
      "execution_count": 0,
      "outputs": []
    },
    {
      "cell_type": "markdown",
      "metadata": {
        "id": "X1QKdlikB1mV",
        "colab_type": "text"
      },
      "source": [
        "**How many rows and columns does \"df_2017_region_price\" have?**"
      ]
    },
    {
      "cell_type": "code",
      "metadata": {
        "id": "v-H37VKpJ02F",
        "colab_type": "code",
        "colab": {}
      },
      "source": [
        ""
      ],
      "execution_count": 0,
      "outputs": []
    },
    {
      "cell_type": "code",
      "metadata": {
        "colab_type": "code",
        "id": "Nddo8ZvwJzMv",
        "colab": {}
      },
      "source": [
        "city_name = ['NewYork', 'LosAngeles', 'Chicago','Houston', 'Denver', 'Philadelphia', 'Seattle', 'SanDiego', 'SanFrancisco', 'Seattle']"
      ],
      "execution_count": 0,
      "outputs": []
    },
    {
      "cell_type": "markdown",
      "metadata": {
        "id": "cZyTVu1DDW_S",
        "colab_type": "text"
      },
      "source": [
        "**Create a new df with only the cities in \"city_name\"**"
      ]
    },
    {
      "cell_type": "code",
      "metadata": {
        "id": "9-eXabhQzCQ_",
        "colab_type": "code",
        "colab": {}
      },
      "source": [
        ""
      ],
      "execution_count": 0,
      "outputs": []
    },
    {
      "cell_type": "markdown",
      "metadata": {
        "id": "I-wbxuTvEnDQ",
        "colab_type": "text"
      },
      "source": [
        "**Plot a barchart (\"region\" and \"AveragePrice\") with the new data frame. Plot only from the conventional avocados.**"
      ]
    },
    {
      "cell_type": "code",
      "metadata": {
        "id": "Qt6VmvNcJ3hL",
        "colab_type": "code",
        "colab": {}
      },
      "source": [
        ""
      ],
      "execution_count": 0,
      "outputs": []
    },
    {
      "cell_type": "code",
      "metadata": {
        "id": "XUh3LjHoJ6VG",
        "colab_type": "code",
        "colab": {}
      },
      "source": [
        ""
      ],
      "execution_count": 0,
      "outputs": []
    },
    {
      "cell_type": "code",
      "metadata": {
        "id": "LivfIcpVJ5UV",
        "colab_type": "code",
        "colab": {}
      },
      "source": [
        ""
      ],
      "execution_count": 0,
      "outputs": []
    },
    {
      "cell_type": "code",
      "metadata": {
        "id": "t_h6gqK9J5Ld",
        "colab_type": "code",
        "colab": {}
      },
      "source": [
        ""
      ],
      "execution_count": 0,
      "outputs": []
    },
    {
      "cell_type": "code",
      "metadata": {
        "id": "tL95HcWOJ5Cd",
        "colab_type": "code",
        "colab": {}
      },
      "source": [
        ""
      ],
      "execution_count": 0,
      "outputs": []
    },
    {
      "cell_type": "markdown",
      "metadata": {
        "id": "T1n-1EZaFMrI",
        "colab_type": "text"
      },
      "source": [
        "**Now do the same with the organic ones**"
      ]
    },
    {
      "cell_type": "code",
      "metadata": {
        "id": "Cpz6OeC1J9Ti",
        "colab_type": "code",
        "colab": {}
      },
      "source": [
        ""
      ],
      "execution_count": 0,
      "outputs": []
    },
    {
      "cell_type": "markdown",
      "metadata": {
        "id": "5J_IA80VFR5B",
        "colab_type": "text"
      },
      "source": [
        "**Now stack the two barplots**"
      ]
    },
    {
      "cell_type": "code",
      "metadata": {
        "id": "4Y6IIZ3JKAS7",
        "colab_type": "code",
        "colab": {}
      },
      "source": [
        ""
      ],
      "execution_count": 0,
      "outputs": []
    },
    {
      "cell_type": "code",
      "metadata": {
        "id": "u49-evIIKAdx",
        "colab_type": "code",
        "colab": {}
      },
      "source": [
        ""
      ],
      "execution_count": 0,
      "outputs": []
    },
    {
      "cell_type": "markdown",
      "metadata": {
        "id": "bhIU32wbCxIR",
        "colab_type": "text"
      },
      "source": [
        "# Scatterplot"
      ]
    },
    {
      "cell_type": "code",
      "metadata": {
        "id": "8Ozv_AMazCRR",
        "colab_type": "code",
        "colab": {}
      },
      "source": [
        ""
      ],
      "execution_count": 0,
      "outputs": []
    },
    {
      "cell_type": "markdown",
      "metadata": {
        "id": "I7JJPI-fFYVg",
        "colab_type": "text"
      },
      "source": [
        "**Make a scatter plot (\"AveragePrice\",  \"Total Volume\") for the conventional avocados in San Francisco**"
      ]
    },
    {
      "cell_type": "code",
      "metadata": {
        "id": "RlNJFTqRKCxM",
        "colab_type": "code",
        "colab": {}
      },
      "source": [
        ""
      ],
      "execution_count": 0,
      "outputs": []
    },
    {
      "cell_type": "code",
      "metadata": {
        "id": "oerZiUtDKCkr",
        "colab_type": "code",
        "colab": {}
      },
      "source": [
        ""
      ],
      "execution_count": 0,
      "outputs": []
    },
    {
      "cell_type": "markdown",
      "metadata": {
        "id": "RCcEnZYEFzT3",
        "colab_type": "text"
      },
      "source": [
        "**Make a scatter plot (\"AveragePrice\",  \"Total Volume\") for the organic avocados in Houston**"
      ]
    },
    {
      "cell_type": "code",
      "metadata": {
        "id": "M0FTjDFvzCRZ",
        "colab_type": "code",
        "colab": {}
      },
      "source": [
        ""
      ],
      "execution_count": 0,
      "outputs": []
    },
    {
      "cell_type": "code",
      "metadata": {
        "id": "ESt0Ft7-KFI0",
        "colab_type": "code",
        "colab": {}
      },
      "source": [
        ""
      ],
      "execution_count": 0,
      "outputs": []
    },
    {
      "cell_type": "markdown",
      "metadata": {
        "id": "lt_ryT-lC5h1",
        "colab_type": "text"
      },
      "source": [
        "**Stack the Houston and San Francisco Scatterplots (organic avocados)**"
      ]
    },
    {
      "cell_type": "code",
      "metadata": {
        "id": "I7Q-EO7mzCRh",
        "colab_type": "code",
        "colab": {}
      },
      "source": [
        ""
      ],
      "execution_count": 0,
      "outputs": []
    },
    {
      "cell_type": "code",
      "metadata": {
        "id": "6YiY_ly7KHm9",
        "colab_type": "code",
        "colab": {}
      },
      "source": [
        ""
      ],
      "execution_count": 0,
      "outputs": []
    },
    {
      "cell_type": "code",
      "metadata": {
        "id": "9_tm3m1_KHYS",
        "colab_type": "code",
        "colab": {}
      },
      "source": [
        ""
      ],
      "execution_count": 0,
      "outputs": []
    },
    {
      "cell_type": "markdown",
      "metadata": {
        "id": "f7fWSHcAGNEz",
        "colab_type": "text"
      },
      "source": [
        "# Don't stop here! Continue Exploring"
      ]
    },
    {
      "cell_type": "code",
      "metadata": {
        "id": "L00ujHWTGQXJ",
        "colab_type": "code",
        "colab": {}
      },
      "source": [
        ""
      ],
      "execution_count": 0,
      "outputs": []
    }
  ]
}